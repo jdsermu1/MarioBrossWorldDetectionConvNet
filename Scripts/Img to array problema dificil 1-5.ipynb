{
 "cells": [
  {
   "cell_type": "code",
   "execution_count": 2,
   "metadata": {
    "colab": {
     "base_uri": "https://localhost:8080/",
     "height": 34
    },
    "colab_type": "code",
    "executionInfo": {
     "elapsed": 692,
     "status": "ok",
     "timestamp": 1584592923738,
     "user": {
      "displayName": "Paulina Acosta",
      "photoUrl": "",
      "userId": "17953817192570044094"
     },
     "user_tz": 300
    },
    "id": "n-05bB22ONb7",
    "outputId": "acef8741-969d-433c-89b6-97e1060ea176"
   },
   "outputs": [
    {
     "name": "stdout",
     "output_type": "stream",
     "text": [
      "Drive already mounted at /content/drive; to attempt to forcibly remount, call drive.mount(\"/content/drive\", force_remount=True).\n"
     ]
    }
   ],
   "source": [
    "from google.colab import drive\n",
    "drive.mount('/content/drive')"
   ]
  },
  {
   "cell_type": "code",
   "execution_count": 1,
   "metadata": {
    "colab": {},
    "colab_type": "code",
    "id": "efC2YfAfFs2l"
   },
   "outputs": [
    {
     "ename": "ModuleNotFoundError",
     "evalue": "No module named 'cv2'",
     "output_type": "error",
     "traceback": [
      "\u001b[0;31m--------------------------------------------------------------------------\u001b[0m",
      "\u001b[0;31mModuleNotFoundError\u001b[0m                      Traceback (most recent call last)",
      "\u001b[0;32m<ipython-input-1-aef9c587191f>\u001b[0m in \u001b[0;36m<module>\u001b[0;34m\u001b[0m\n\u001b[1;32m      1\u001b[0m \u001b[0;32mimport\u001b[0m \u001b[0mnumpy\u001b[0m \u001b[0;32mas\u001b[0m \u001b[0mnp\u001b[0m\u001b[0;34m\u001b[0m\u001b[0;34m\u001b[0m\u001b[0m\n\u001b[1;32m      2\u001b[0m \u001b[0;32mimport\u001b[0m \u001b[0mos\u001b[0m\u001b[0;34m\u001b[0m\u001b[0;34m\u001b[0m\u001b[0m\n\u001b[0;32m----> 3\u001b[0;31m \u001b[0;32mimport\u001b[0m \u001b[0mcv2\u001b[0m\u001b[0;34m\u001b[0m\u001b[0;34m\u001b[0m\u001b[0m\n\u001b[0m\u001b[1;32m      4\u001b[0m \u001b[0;32mfrom\u001b[0m \u001b[0mgoogle\u001b[0m\u001b[0;34m.\u001b[0m\u001b[0mcolab\u001b[0m\u001b[0;34m.\u001b[0m\u001b[0mpatches\u001b[0m \u001b[0;32mimport\u001b[0m \u001b[0mcv2_imshow\u001b[0m\u001b[0;34m\u001b[0m\u001b[0;34m\u001b[0m\u001b[0m\n",
      "\u001b[0;31mModuleNotFoundError\u001b[0m: No module named 'cv2'"
     ]
    }
   ],
   "source": [
    "import numpy as np\n",
    "import os\n",
    "import cv2\n",
    "# from google.colab.patches import cv2_imshow"
   ]
  },
  {
   "cell_type": "code",
   "execution_count": 0,
   "metadata": {
    "colab": {},
    "colab_type": "code",
    "id": "hiBF8wr_LrjZ"
   },
   "outputs": [],
   "source": [
    "PATH = os.getcwd()\n",
    "data_path = PATH + '/drive/My Drive/Colab Notebooks/Machine Learning/Proyecto 1/Imagenes'\n",
    "data_dir_list = os.listdir(data_path)\n",
    "img_data_list=[]"
   ]
  },
  {
   "cell_type": "code",
   "execution_count": 5,
   "metadata": {
    "colab": {
     "base_uri": "https://localhost:8080/",
     "height": 156
    },
    "colab_type": "code",
    "executionInfo": {
     "elapsed": 178998,
     "status": "ok",
     "timestamp": 1584593105868,
     "user": {
      "displayName": "Paulina Acosta",
      "photoUrl": "",
      "userId": "17953817192570044094"
     },
     "user_tz": 300
    },
    "id": "_-jTGtjMLv8X",
    "outputId": "7b8171c8-7573-404e-d171-dced511c73fa"
   },
   "outputs": [
    {
     "name": "stdout",
     "output_type": "stream",
     "text": [
      "Loading the images of dataset-Mundo 1\n",
      "\n",
      "Loading the images of dataset-Mundo 2\n",
      "\n",
      "Loading the images of dataset-Mundo 5\n",
      "\n",
      "(8280, 256, 256, 3)\n",
      "(8280,)\n"
     ]
    }
   ],
   "source": [
    "y=[]\n",
    "n=0\n",
    "for dataset in data_dir_list:\n",
    "  stages_list=os.listdir(data_path+'/'+ dataset)\n",
    "  print ('Loading the images of dataset-'+'{}\\n'.format(dataset))\n",
    "  if dataset=='Mundo 1':\n",
    "    for stage in stages_list:\n",
    "      img_list=os.listdir(data_path+'/'+ dataset+'/'+stage)\n",
    "      n=0\n",
    "      for img in img_list:\n",
    "        if n<=1034:\n",
    "          input_img=cv2.imread(data_path + '/'+ dataset+'/'+stage + '/'+ img)\n",
    "          input_img_resize=cv2.resize(input_img,(256,256))\n",
    "          #cv2_imshow(input_img_resize)\n",
    "          img_data_list.append(input_img_resize)\n",
    "          y.append(1)\n",
    "        n+=1\n",
    "  if dataset=='Mundo 5':\n",
    "    for stage in stages_list:\n",
    "      img_list=os.listdir(data_path+'/'+ dataset+'/'+ stage)\n",
    "      n=0\n",
    "      for img in img_list:\n",
    "        if n<=1034:\n",
    "          input_img=cv2.imread(data_path + '/'+ dataset+'/'+stage + '/'+ img)\n",
    "          #input_img_resize=cv2.resize(input_img,(256,256))  ya las imagenes estab 256x256\n",
    "          #cv2_imshow(input_img_resize)\n",
    "          img_data_list.append(input_img)\n",
    "          y.append(0)\n",
    "        n+=1\n",
    "\n",
    "datos=np.array(img_data_list)\n",
    "print(datos.shape)\n",
    "y=np.array(y)\n",
    "print(y.shape)\n",
    "cad=PATH + '/drive/My Drive/Colab Notebooks/Machine Learning/Proyecto 1/Arreglos/Problema Dificil/'\n",
    "np.save(cad+'Xnumpyarray', datos)\n",
    "np.save(cad+'Ynumpyarray', y)"
   ]
  },
  {
   "cell_type": "code",
   "execution_count": 6,
   "metadata": {
    "colab": {
     "base_uri": "https://localhost:8080/",
     "height": 52
    },
    "colab_type": "code",
    "executionInfo": {
     "elapsed": 176601,
     "status": "ok",
     "timestamp": 1584593105873,
     "user": {
      "displayName": "Paulina Acosta",
      "photoUrl": "",
      "userId": "17953817192570044094"
     },
     "user_tz": 300
    },
    "id": "u9yXXrxWfMl4",
    "outputId": "86899617-8436-4db1-b0e1-f64436dc6267"
   },
   "outputs": [
    {
     "name": "stdout",
     "output_type": "stream",
     "text": [
      "4140\n",
      "4140\n"
     ]
    }
   ],
   "source": [
    "zeros=0\n",
    "unos=0\n",
    "for i in y:\n",
    "  if i==0:\n",
    "    zeros+=1\n",
    "  if i==1:\n",
    "    unos+=1\n",
    "print(zeros)\n",
    "print(unos)"
   ]
  },
  {
   "cell_type": "code",
   "execution_count": 0,
   "metadata": {
    "colab": {},
    "colab_type": "code",
    "id": "n3HKRRq3O6dF"
   },
   "outputs": [],
   "source": [
    "from google.colab import output\n",
    "output.eval_js('new Audio(\"https://upload.wikimedia.org/wikipedia/commons/0/05/Beep-09.ogg\").play()')"
   ]
  }
 ],
 "metadata": {
  "colab": {
   "authorship_tag": "ABX9TyOBg7Vhi2l8jBhSF4thmYnW",
   "collapsed_sections": [],
   "machine_shape": "hm",
   "name": "Img to array problema dificil 1-5.ipynb",
   "provenance": []
  },
  "kernelspec": {
   "display_name": "Python 3",
   "language": "python",
   "name": "python3"
  },
  "language_info": {
   "codemirror_mode": {
    "name": "ipython",
    "version": 3
   },
   "file_extension": ".py",
   "mimetype": "text/x-python",
   "name": "python",
   "nbconvert_exporter": "python",
   "pygments_lexer": "ipython3",
   "version": "3.7.9"
  }
 },
 "nbformat": 4,
 "nbformat_minor": 1
}
