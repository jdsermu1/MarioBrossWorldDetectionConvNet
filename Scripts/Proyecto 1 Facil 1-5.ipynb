{
 "cells": [
  {
   "cell_type": "code",
   "execution_count": null,
   "metadata": {
    "colab": {
     "base_uri": "https://localhost:8080/",
     "height": 122
    },
    "colab_type": "code",
    "executionInfo": {
     "elapsed": 19947,
     "status": "ok",
     "timestamp": 1585673022260,
     "user": {
      "displayName": "Juan David Serrano Mugica",
      "photoUrl": "",
      "userId": "02259910632985565375"
     },
     "user_tz": 300
    },
    "id": "vdmhYL9_jLHB",
    "outputId": "cb90f82d-ed4a-44d6-f4d7-6f91058b502b"
   },
   "outputs": [],
   "source": [
    "# from google.colab import drive\n",
    "# drive.mount('/content/drive')"
   ]
  },
  {
   "cell_type": "markdown",
   "metadata": {
    "colab_type": "text",
    "id": "eX_4CYePT8iU"
   },
   "source": [
    "Se importan las librerias que se utilizaran:"
   ]
  },
  {
   "cell_type": "code",
   "execution_count": 1,
   "metadata": {
    "colab": {
     "base_uri": "https://localhost:8080/",
     "height": 51
    },
    "colab_type": "code",
    "executionInfo": {
     "elapsed": 6553,
     "status": "ok",
     "timestamp": 1585673030212,
     "user": {
      "displayName": "Juan David Serrano Mugica",
      "photoUrl": "",
      "userId": "02259910632985565375"
     },
     "user_tz": 300
    },
    "id": "zM7qiqftmf5D",
    "outputId": "ef54b7f8-10d3-4c14-e81d-55a34d853a7e"
   },
   "outputs": [],
   "source": [
    "# %tensorflow_version 1.x\n",
    "import tensorflow as tf\n",
    "import tensorflow as tf\n",
    "gpu_devices = tf.config.experimental.list_physical_devices('GPU')\n",
    "for device in gpu_devices:\n",
    "    tf.config.experimental.set_memory_growth(device, True)\n",
    "import matplotlib.pyplot as plt\n",
    "import numpy as np\n",
    "import os\n",
    "import cv2\n",
    "from random import randint\n",
    "import tensorflow.keras.utils as utils\n",
    "# from google.colab.patches import cv2_imshow\n",
    "from sklearn import preprocessing\n",
    "from sklearn.metrics import confusion_matrix\n",
    "from sklearn.metrics import classification_report\n",
    "from sklearn.preprocessing import StandardScaler\n",
    "from sklearn.model_selection import train_test_split\n",
    "from tensorflow.keras.models import Sequential\n",
    "from tensorflow.keras.layers import Dense, Dropout, Activation, Flatten, Conv2D, MaxPooling2D\n",
    "from tensorflow.keras.optimizers import SGD,RMSprop,Adam\n",
    "from tensorflow.keras import backend as K\n",
    "import itertools\n",
    "os.environ['TF_CPP_MIN_LOG_LEVEL'] = '3'"
   ]
  },
  {
   "cell_type": "markdown",
   "metadata": {
    "colab_type": "text",
    "id": "ZY30mGfKUCL2"
   },
   "source": [
    "En la etapa de obtención de datos, se recoletaron 1000 imagenes de 256x256 por cada uno de los 4 stages de cada mundo a clasificar. Es decir para el mundo 1 existe 4000 imagenes y para el mundo 2 tambien 4000 imagenes. De esta manera aseguramos un problema balanceado.\n",
    "\n",
    "Las imagenes fueron guardadas en un arreglo de matrices de numeros que representan cada pixel de la imagen segun su codificación RGB, por esto es un arreglo de 4 dimensiones. Ademas se guardaron las imagenes en un arreglo, esto evita utilizar tiempo y recursos computacionales cada vez que se requiera ajustar parametros de la red.\n",
    "\n",
    "Se procede a cargar los datos de las imagenes de esos archivos."
   ]
  },
  {
   "cell_type": "code",
   "execution_count": 2,
   "metadata": {
    "colab": {},
    "colab_type": "code",
    "id": "ynpyuOKto3pz"
   },
   "outputs": [],
   "source": [
    "loaded_xarray = np.load('../Arreglos/Problema Dificil/Xnumpyarray.npy')\n",
    "loaded_yarray = np.load('../Arreglos/Problema Dificil/Ynumpyarray.npy')"
   ]
  },
  {
   "cell_type": "markdown",
   "metadata": {
    "colab_type": "text",
    "id": "27WfWZXZ6sE2"
   },
   "source": [
    "Se verifica que la persistencia de los datos no haya modificado las imagenes, por lo tanto se muestran aleatoriamente algunas de las imagenes cargadas."
   ]
  },
  {
   "cell_type": "code",
   "execution_count": 3,
   "metadata": {
    "colab": {},
    "colab_type": "code",
    "id": "qFOlR6WEjc2C"
   },
   "outputs": [],
   "source": [
    "def cualClase(claseBinaria):\n",
    "  clase=''\n",
    "  if claseBinaria==0:\n",
    "    clase='Mundo 5'\n",
    "  else:\n",
    "    clase='Mundo 1'\n",
    "  return clase"
   ]
  },
  {
   "cell_type": "code",
   "execution_count": 4,
   "metadata": {
    "colab": {
     "base_uri": "https://localhost:8080/",
     "height": 1000
    },
    "colab_type": "code",
    "executionInfo": {
     "elapsed": 1164,
     "status": "ok",
     "timestamp": 1585673052470,
     "user": {
      "displayName": "Juan David Serrano Mugica",
      "photoUrl": "",
      "userId": "02259910632985565375"
     },
     "user_tz": 300
    },
    "id": "4IiI73tu6bu-",
    "outputId": "28723a29-7fcc-4ae7-fb99-cd23e73c5d35"
   },
   "outputs": [
    {
     "name": "stdout",
     "output_type": "stream",
     "text": [
      "El tamaño de X es:  (8280, 256, 256, 3)\n",
      "El tamaño de Y es:  (8280,)\n",
      "Algunos de los datos.... \n",
      "\n"
     ]
    }
   ],
   "source": [
    "print('El tamaño de X es: ',loaded_xarray.shape)\n",
    "print('El tamaño de Y es: ',loaded_yarray.shape)\n",
    "print('Algunos de los datos.... \\n')\n",
    "# for i in range(20):\n",
    "#   numAleatorio=randint(0,loaded_xarray.shape[0]-1)\n",
    "#   print('-----------------------------------------------------')\n",
    "#   print('Imagen #: ',numAleatorio ,'\\n')\n",
    "#   cv2_imshow(loaded_xarray[numAleatorio])\n",
    "#   claseBinaria=loaded_yarray[numAleatorio]\n",
    "#   clase=cualClase(claseBinaria)\n",
    "#   print('Pertenece a la clase: ',clase,'\\n')"
   ]
  },
  {
   "cell_type": "markdown",
   "metadata": {
    "colab_type": "text",
    "id": "XGfPdwtZgii4"
   },
   "source": [
    "Se verifica que el problema sea balanceado"
   ]
  },
  {
   "cell_type": "code",
   "execution_count": 5,
   "metadata": {
    "colab": {
     "base_uri": "https://localhost:8080/",
     "height": 51
    },
    "colab_type": "code",
    "executionInfo": {
     "elapsed": 699,
     "status": "ok",
     "timestamp": 1585673063368,
     "user": {
      "displayName": "Juan David Serrano Mugica",
      "photoUrl": "",
      "userId": "02259910632985565375"
     },
     "user_tz": 300
    },
    "id": "rKEWjH6TW3ZZ",
    "outputId": "6a7cf9af-9bf8-4c76-87b0-a45d5260c9bf"
   },
   "outputs": [
    {
     "name": "stdout",
     "output_type": "stream",
     "text": [
      "zeros:  4140\n",
      "ones:  4140\n"
     ]
    }
   ],
   "source": [
    "zeros=0\n",
    "ones=0\n",
    "for i in loaded_yarray:\n",
    "  if i==0:\n",
    "    zeros+=1\n",
    "  if i==1:\n",
    "    ones+=1\n",
    "print('zeros: ',zeros)\n",
    "print('ones: ',ones)"
   ]
  },
  {
   "cell_type": "code",
   "execution_count": null,
   "metadata": {
    "colab": {},
    "colab_type": "code",
    "id": "_U4sSJLZoymt"
   },
   "outputs": [],
   "source": [
    "#y=loaded_yarray\n",
    "#img_data = loaded_xarray.astype('float32')"
   ]
  },
  {
   "cell_type": "markdown",
   "metadata": {
    "colab_type": "text",
    "id": "xVMueTDBAPCT"
   },
   "source": [
    "Se procede a separar los datos en 20% para prueba, 10% para validación y 70% para entrenamiento. La matriz X fue importada con los datos de cada clase en orden, de la posición 0 hasta la 4139 con datos del mundo 1 y el resto con datos del mundo 2. Por lo tanto hay que aleatorizar los datos para asegurar que el modelo aprenda de ambas clases y no solamente de una."
   ]
  },
  {
   "cell_type": "code",
   "execution_count": 6,
   "metadata": {
    "colab": {},
    "colab_type": "code",
    "id": "EP7SEH3RfvqC"
   },
   "outputs": [],
   "source": [
    "x_trainval, x_test, y_trainval, y_test = train_test_split(loaded_xarray, loaded_yarray, test_size=0.2, random_state=10)\n",
    "x_train, x_val, y_train, y_val = train_test_split(x_trainval, y_trainval, test_size=0.125, random_state=10)"
   ]
  },
  {
   "cell_type": "markdown",
   "metadata": {
    "colab_type": "text",
    "id": "xfw4o81ETM5W"
   },
   "source": [
    "Ya que se tienen separados los datos se proceden a definir las funciones de las metricas que se desean medir acerca de los datos y se calcularan en cada epoca. Ademas de la precisión se desea conocer el puntaje F1 y recall, que proporcionan información acerca de el sesgo del modelo sobre los datos."
   ]
  },
  {
   "cell_type": "code",
   "execution_count": 7,
   "metadata": {
    "colab": {},
    "colab_type": "code",
    "id": "vGfSCmtLDpG4"
   },
   "outputs": [],
   "source": [
    "def recall_m(y_true, y_pred):\n",
    "    true_positives = K.sum(K.round(K.clip(y_true * y_pred, 0, 1)))\n",
    "    total = K.sum(K.round(K.clip(y_true, 0, 1)))\n",
    "    recall = true_positives / (total + K.epsilon())\n",
    "    return recall\n",
    "\n",
    "def precision_m(y_true, y_pred):\n",
    "    true_positives = K.sum(K.round(K.clip(y_true * y_pred, 0, 1)))\n",
    "    predicted_positives = K.sum(K.round(K.clip(y_pred, 0, 1)))\n",
    "    precision = true_positives / (predicted_positives + K.epsilon())\n",
    "    return precision\n",
    "\n",
    "def f1_m(y_true, y_pred):\n",
    "    precision = precision_m(y_true, y_pred)\n",
    "    recall = recall_m(y_true, y_pred)\n",
    "    f1=2*((precision*recall)/(precision+recall+K.epsilon()))\n",
    "    return f1"
   ]
  },
  {
   "cell_type": "markdown",
   "metadata": {
    "colab_type": "text",
    "id": "CqP8wnltBHjF"
   },
   "source": [
    "Se crea la arquitectura de la red convolucional, luego se escoge la función de error con la cual se estimara el error teorico y es una función que se utiliza durante el entrenamiento, el optimizador para encontrar o estimar unos parametros que minimizen esta función de error y por ultimo las metricas, que se estiman despues del entrenamiento, es de interes la precisión empirica (numero de aciertos sobre el total), puntaje F1 y recall. La configuración de la red se muestra en el siguiente bloque:"
   ]
  },
  {
   "cell_type": "code",
   "execution_count": 13,
   "metadata": {
    "colab": {
     "base_uri": "https://localhost:8080/",
     "height": 751
    },
    "colab_type": "code",
    "executionInfo": {
     "elapsed": 458,
     "status": "ok",
     "timestamp": 1585673074430,
     "user": {
      "displayName": "Juan David Serrano Mugica",
      "photoUrl": "",
      "userId": "02259910632985565375"
     },
     "user_tz": 300
    },
    "id": "XJZjG39wKW_C",
    "outputId": "6f6e4355-976d-45b6-ccd3-98c4a499dbf3"
   },
   "outputs": [
    {
     "name": "stdout",
     "output_type": "stream",
     "text": [
      "Model: \"sequential_2\"\n",
      "_________________________________________________________________\n",
      "Layer (type)                 Output Shape              Param #   \n",
      "=================================================================\n",
      "conv2d_2 (Conv2D)            (None, 250, 250, 16)      2368      \n",
      "_________________________________________________________________\n",
      "max_pooling2d_2 (MaxPooling2 (None, 125, 125, 16)      0         \n",
      "_________________________________________________________________\n",
      "flatten_2 (Flatten)          (None, 250000)            0         \n",
      "_________________________________________________________________\n",
      "dense_6 (Dense)              (None, 64)                16000064  \n",
      "_________________________________________________________________\n",
      "dense_7 (Dense)              (None, 128)               8320      \n",
      "_________________________________________________________________\n",
      "dropout_2 (Dropout)          (None, 128)               0         \n",
      "_________________________________________________________________\n",
      "dense_8 (Dense)              (None, 1)                 129       \n",
      "=================================================================\n",
      "Total params: 16,010,881\n",
      "Trainable params: 16,010,881\n",
      "Non-trainable params: 0\n",
      "_________________________________________________________________\n"
     ]
    }
   ],
   "source": [
    "model = Sequential()\n",
    "model.add(Conv2D(16, (7, 7), input_shape=(256, 256, 3), activation='softmax'))\n",
    "model.add(MaxPooling2D(pool_size=(2, 2)))\n",
    "model.add(Flatten())\n",
    "model.add(Dense(64, activation='relu'))\n",
    "model.add(Dense(128, activation='relu'))\n",
    "model.add(Dropout(0.5))\n",
    "model.add(Dense(1, activation='sigmoid'))\n",
    "opt=RMSprop(0.00001, rho=0.9)\n",
    "model.compile(loss='binary_crossentropy',\n",
    "              optimizer=opt,\n",
    "              metrics=['accuracy', recall_m, precision_m])\n",
    "model.summary()"
   ]
  },
  {
   "cell_type": "markdown",
   "metadata": {
    "colab_type": "text",
    "id": "yZPlzpmAcCwz"
   },
   "source": [
    "Ahora se ajusta el modelo a los datos de entrenamiento teniendo en cuenta los datos de validación. Tambien se ajusta el numero de epocas."
   ]
  },
  {
   "cell_type": "code",
   "execution_count": 14,
   "metadata": {
    "colab": {
     "base_uri": "https://localhost:8080/",
     "height": 1000
    },
    "colab_type": "code",
    "executionInfo": {
     "elapsed": 259779,
     "status": "ok",
     "timestamp": 1585673337723,
     "user": {
      "displayName": "Juan David Serrano Mugica",
      "photoUrl": "",
      "userId": "02259910632985565375"
     },
     "user_tz": 300
    },
    "id": "vxx4txzLEqIp",
    "outputId": "a788db4e-6785-4dec-87ef-f15dafbdce4a"
   },
   "outputs": [
    {
     "name": "stdout",
     "output_type": "stream",
     "text": [
      "Epoch 1/30\n",
      "182/182 [==============================] - 5s 23ms/step - loss: 0.4576 - accuracy: 0.7683 - recall_m: 0.7690 - precision_m: 0.7955 - val_loss: 0.2430 - val_accuracy: 0.8357 - val_recall_m: 0.6644 - val_precision_m: 1.0000\n",
      "Epoch 2/30\n",
      "182/182 [==============================] - 4s 22ms/step - loss: 0.1102 - accuracy: 0.9811 - recall_m: 0.9725 - precision_m: 0.9897 - val_loss: 0.0216 - val_accuracy: 1.0000 - val_recall_m: 1.0000 - val_precision_m: 1.0000\n",
      "Epoch 3/30\n",
      "182/182 [==============================] - 4s 22ms/step - loss: 0.0258 - accuracy: 0.9987 - recall_m: 0.9988 - precision_m: 0.9984 - val_loss: 0.0053 - val_accuracy: 1.0000 - val_recall_m: 1.0000 - val_precision_m: 1.0000\n",
      "Epoch 4/30\n",
      "182/182 [==============================] - 4s 22ms/step - loss: 0.0075 - accuracy: 1.0000 - recall_m: 1.0000 - precision_m: 1.0000 - val_loss: 0.0019 - val_accuracy: 1.0000 - val_recall_m: 1.0000 - val_precision_m: 1.0000\n",
      "Epoch 5/30\n",
      "182/182 [==============================] - 4s 22ms/step - loss: 0.0026 - accuracy: 1.0000 - recall_m: 1.0000 - precision_m: 1.0000 - val_loss: 5.2171e-04 - val_accuracy: 1.0000 - val_recall_m: 1.0000 - val_precision_m: 1.0000\n",
      "Epoch 6/30\n",
      "182/182 [==============================] - 4s 22ms/step - loss: 0.0011 - accuracy: 1.0000 - recall_m: 1.0000 - precision_m: 1.0000 - val_loss: 2.8570e-04 - val_accuracy: 1.0000 - val_recall_m: 1.0000 - val_precision_m: 1.0000\n",
      "Epoch 7/30\n",
      "182/182 [==============================] - 4s 22ms/step - loss: 7.0030e-04 - accuracy: 1.0000 - recall_m: 1.0000 - precision_m: 1.0000 - val_loss: 3.1772e-04 - val_accuracy: 1.0000 - val_recall_m: 1.0000 - val_precision_m: 1.0000\n",
      "Epoch 8/30\n",
      "182/182 [==============================] - 4s 23ms/step - loss: 4.1263e-04 - accuracy: 1.0000 - recall_m: 1.0000 - precision_m: 1.0000 - val_loss: 1.9768e-04 - val_accuracy: 1.0000 - val_recall_m: 1.0000 - val_precision_m: 1.0000\n",
      "Epoch 9/30\n",
      "182/182 [==============================] - 4s 22ms/step - loss: 2.3997e-04 - accuracy: 1.0000 - recall_m: 1.0000 - precision_m: 1.0000 - val_loss: 5.9601e-05 - val_accuracy: 1.0000 - val_recall_m: 1.0000 - val_precision_m: 1.0000\n",
      "Epoch 10/30\n",
      "182/182 [==============================] - 4s 22ms/step - loss: 1.9478e-04 - accuracy: 1.0000 - recall_m: 1.0000 - precision_m: 1.0000 - val_loss: 2.5968e-05 - val_accuracy: 1.0000 - val_recall_m: 1.0000 - val_precision_m: 1.0000\n",
      "Epoch 11/30\n",
      "182/182 [==============================] - 4s 22ms/step - loss: 8.9502e-05 - accuracy: 1.0000 - recall_m: 1.0000 - precision_m: 1.0000 - val_loss: 8.3415e-06 - val_accuracy: 1.0000 - val_recall_m: 1.0000 - val_precision_m: 1.0000\n",
      "Epoch 12/30\n",
      "182/182 [==============================] - 4s 22ms/step - loss: 7.4405e-05 - accuracy: 1.0000 - recall_m: 1.0000 - precision_m: 1.0000 - val_loss: 3.4117e-06 - val_accuracy: 1.0000 - val_recall_m: 1.0000 - val_precision_m: 1.0000\n",
      "Epoch 13/30\n",
      "182/182 [==============================] - 4s 22ms/step - loss: 4.2338e-05 - accuracy: 1.0000 - recall_m: 1.0000 - precision_m: 1.0000 - val_loss: 1.5969e-06 - val_accuracy: 1.0000 - val_recall_m: 1.0000 - val_precision_m: 1.0000\n",
      "Epoch 14/30\n",
      "182/182 [==============================] - 4s 22ms/step - loss: 2.2122e-05 - accuracy: 1.0000 - recall_m: 1.0000 - precision_m: 1.0000 - val_loss: 9.1445e-07 - val_accuracy: 1.0000 - val_recall_m: 1.0000 - val_precision_m: 1.0000\n",
      "Epoch 15/30\n",
      "182/182 [==============================] - 4s 22ms/step - loss: 7.2547e-06 - accuracy: 1.0000 - recall_m: 1.0000 - precision_m: 1.0000 - val_loss: 6.6581e-07 - val_accuracy: 1.0000 - val_recall_m: 1.0000 - val_precision_m: 1.0000\n",
      "Epoch 16/30\n",
      "182/182 [==============================] - 4s 22ms/step - loss: 1.2898e-05 - accuracy: 1.0000 - recall_m: 1.0000 - precision_m: 1.0000 - val_loss: 1.8739e-06 - val_accuracy: 1.0000 - val_recall_m: 1.0000 - val_precision_m: 1.0000\n",
      "Epoch 17/30\n",
      "182/182 [==============================] - 4s 22ms/step - loss: 1.3183e-05 - accuracy: 1.0000 - recall_m: 1.0000 - precision_m: 1.0000 - val_loss: 2.2681e-06 - val_accuracy: 1.0000 - val_recall_m: 1.0000 - val_precision_m: 1.0000\n",
      "Epoch 18/30\n",
      "182/182 [==============================] - 4s 23ms/step - loss: 4.1808e-06 - accuracy: 1.0000 - recall_m: 1.0000 - precision_m: 1.0000 - val_loss: 5.2811e-07 - val_accuracy: 1.0000 - val_recall_m: 1.0000 - val_precision_m: 1.0000\n",
      "Epoch 19/30\n",
      "182/182 [==============================] - 4s 22ms/step - loss: 1.1536e-05 - accuracy: 1.0000 - recall_m: 1.0000 - precision_m: 1.0000 - val_loss: 4.8682e-07 - val_accuracy: 1.0000 - val_recall_m: 1.0000 - val_precision_m: 1.0000\n",
      "Epoch 20/30\n",
      "182/182 [==============================] - 4s 22ms/step - loss: 2.0528e-06 - accuracy: 1.0000 - recall_m: 1.0000 - precision_m: 1.0000 - val_loss: 5.5751e-07 - val_accuracy: 1.0000 - val_recall_m: 1.0000 - val_precision_m: 1.0000\n",
      "Epoch 21/30\n",
      "182/182 [==============================] - 4s 22ms/step - loss: 5.9740e-06 - accuracy: 1.0000 - recall_m: 1.0000 - precision_m: 1.0000 - val_loss: 2.3521e-07 - val_accuracy: 1.0000 - val_recall_m: 1.0000 - val_precision_m: 1.0000\n",
      "Epoch 22/30\n",
      "182/182 [==============================] - 4s 22ms/step - loss: 9.6004e-07 - accuracy: 1.0000 - recall_m: 1.0000 - precision_m: 1.0000 - val_loss: 4.0595e-07 - val_accuracy: 1.0000 - val_recall_m: 1.0000 - val_precision_m: 1.0000\n",
      "Epoch 23/30\n",
      "182/182 [==============================] - 4s 22ms/step - loss: 1.5458e-06 - accuracy: 1.0000 - recall_m: 1.0000 - precision_m: 1.0000 - val_loss: 7.7269e-07 - val_accuracy: 1.0000 - val_recall_m: 1.0000 - val_precision_m: 1.0000\n",
      "Epoch 24/30\n",
      "182/182 [==============================] - 4s 22ms/step - loss: 1.2184e-06 - accuracy: 1.0000 - recall_m: 0.9999 - precision_m: 0.9999 - val_loss: 8.8242e-07 - val_accuracy: 1.0000 - val_recall_m: 1.0000 - val_precision_m: 1.0000\n",
      "Epoch 25/30\n",
      "182/182 [==============================] - 4s 22ms/step - loss: 8.7512e-07 - accuracy: 1.0000 - recall_m: 1.0000 - precision_m: 1.0000 - val_loss: 3.5654e-07 - val_accuracy: 1.0000 - val_recall_m: 1.0000 - val_precision_m: 1.0000\n",
      "Epoch 26/30\n",
      "182/182 [==============================] - 4s 23ms/step - loss: 7.7524e-07 - accuracy: 1.0000 - recall_m: 1.0000 - precision_m: 1.0000 - val_loss: 2.0931e-07 - val_accuracy: 1.0000 - val_recall_m: 1.0000 - val_precision_m: 1.0000\n",
      "Epoch 27/30\n",
      "182/182 [==============================] - 4s 22ms/step - loss: 1.3822e-06 - accuracy: 1.0000 - recall_m: 1.0000 - precision_m: 1.0000 - val_loss: 9.5719e-08 - val_accuracy: 1.0000 - val_recall_m: 1.0000 - val_precision_m: 1.0000\n",
      "Epoch 28/30\n",
      "182/182 [==============================] - 4s 23ms/step - loss: 2.9554e-06 - accuracy: 1.0000 - recall_m: 1.0000 - precision_m: 1.0000 - val_loss: 1.4910e-07 - val_accuracy: 1.0000 - val_recall_m: 1.0000 - val_precision_m: 1.0000\n",
      "Epoch 29/30\n",
      "182/182 [==============================] - 4s 23ms/step - loss: 5.1183e-07 - accuracy: 1.0000 - recall_m: 1.0000 - precision_m: 1.0000 - val_loss: 3.7558e-08 - val_accuracy: 1.0000 - val_recall_m: 1.0000 - val_precision_m: 1.0000\n",
      "Epoch 30/30\n",
      "182/182 [==============================] - 4s 22ms/step - loss: 3.6028e-06 - accuracy: 1.0000 - recall_m: 1.0000 - precision_m: 1.0000 - val_loss: 4.1495e-08 - val_accuracy: 1.0000 - val_recall_m: 1.0000 - val_precision_m: 1.0000\n"
     ]
    }
   ],
   "source": [
    "history = model.fit(x_train, y_train, epochs=30, validation_data=(x_val, y_val))"
   ]
  },
  {
   "cell_type": "code",
   "execution_count": 18,
   "metadata": {},
   "outputs": [
    {
     "name": "stdout",
     "output_type": "stream",
     "text": [
      "dict_keys(['loss', 'accuracy', 'recall_m', 'precision_m', 'val_loss', 'val_accuracy', 'val_recall_m', 'val_precision_m'])\n"
     ]
    }
   ],
   "source": [
    "tf.config.list_physical_devices('GPU')\n",
    "print(history.history.keys())"
   ]
  },
  {
   "cell_type": "markdown",
   "metadata": {
    "colab_type": "text",
    "id": "pI7sftQQta0n"
   },
   "source": [
    "#Metricas sobre datos de entrenamiento y validación"
   ]
  },
  {
   "cell_type": "markdown",
   "metadata": {
    "colab_type": "text",
    "id": "YpBMJzGZcMZ1"
   },
   "source": [
    "# Precisión empirica \n",
    "\n"
   ]
  },
  {
   "cell_type": "code",
   "execution_count": 20,
   "metadata": {
    "colab": {
     "base_uri": "https://localhost:8080/",
     "height": 279
    },
    "colab_type": "code",
    "executionInfo": {
     "elapsed": 1772,
     "status": "ok",
     "timestamp": 1585675117084,
     "user": {
      "displayName": "Juan David Serrano Mugica",
      "photoUrl": "",
      "userId": "02259910632985565375"
     },
     "user_tz": 300
    },
    "id": "XiopTi9n5Xdu",
    "outputId": "c1c82f51-1f36-48b8-c244-ff6a8ebe0a5a"
   },
   "outputs": [
    {
     "name": "stdout",
     "output_type": "stream",
     "text": [
      "52/52 - 0s - loss: 1.5079e-08 - accuracy: 1.0000 - recall_m: 1.0000 - precision_m: 1.0000\n"
     ]
    },
    {
     "data": {
      "image/png": "[encoded data removed]",
      "text/plain": [
       "<Figure size 432x288 with 1 Axes>"
      ]
     },
     "metadata": {
      "needs_background": "light"
     },
     "output_type": "display_data"
    }
   ],
   "source": [
    "plt.plot(history.history['accuracy'], label='Precisión empirica')\n",
    "plt.plot(history.history['val_accuracy'], label = 'Precisión de validación')\n",
    "plt.xlabel('Epoca')\n",
    "plt.ylabel('Precisión')\n",
    "plt.grid(linewidth=0.5)\n",
    "ax=plt.gca()\n",
    "plt.ylim([0.84, 1.01])\n",
    "plt.legend(loc='lower right')\n",
    "test_loss, test_acc,f1_score,recall = model.evaluate(x_test, y_test, verbose=2)\n",
    "# plt.savefig(PATH+'/drive/My Drive/Colab Notebooks/Machine Learning/Proyecto 1/Graficas/Problema Facil/precision.png')"
   ]
  },
  {
   "cell_type": "markdown",
   "metadata": {
    "colab_type": "text",
    "id": "5771Nl_OcVVp"
   },
   "source": [
    "# Funcion de error: Entropía cruzada "
   ]
  },
  {
   "cell_type": "code",
   "execution_count": 22,
   "metadata": {
    "colab": {
     "base_uri": "https://localhost:8080/",
     "height": 283
    },
    "colab_type": "code",
    "executionInfo": {
     "elapsed": 1546,
     "status": "ok",
     "timestamp": 1585675204853,
     "user": {
      "displayName": "Juan David Serrano Mugica",
      "photoUrl": "",
      "userId": "02259910632985565375"
     },
     "user_tz": 300
    },
    "id": "3Tt2MVCnH3V0",
    "outputId": "0e7a6137-5c13-446f-f87a-6e56525ff64b"
   },
   "outputs": [
    {
     "data": {
      "image/png": "[encoded data removed]",
      "text/plain": [
       "<Figure size 432x288 with 1 Axes>"
      ]
     },
     "metadata": {
      "needs_background": "light"
     },
     "output_type": "display_data"
    }
   ],
   "source": [
    "plt.plot(history.history['loss'], label='Error')\n",
    "plt.plot(history.history['val_loss'], label = 'Error de validación')\n",
    "plt.xlabel('Epoca')\n",
    "plt.ylabel('Error')\n",
    "plt.grid(linewidth=0.5)\n",
    "ax=plt.gca()\n",
    "plt.ylim([-0.02, 0.4])\n",
    "plt.legend(loc='upper right')\n",
    "#plt.savefig(PATH+'/drive/My Drive/Colab Notebooks/Machine Learning/Proyecto 1/Graficas/Problema Facil/Entropia Cruzada.png')\n",
    "plt.show()"
   ]
  },
  {
   "cell_type": "markdown",
   "metadata": {
    "colab_type": "text",
    "id": "MbRjQELDcXUX"
   },
   "source": [
    "# F1 score \n"
   ]
  },
  {
   "cell_type": "code",
   "execution_count": null,
   "metadata": {
    "colab": {
     "base_uri": "https://localhost:8080/",
     "height": 279
    },
    "colab_type": "code",
    "executionInfo": {
     "elapsed": 1408,
     "status": "ok",
     "timestamp": 1585675219496,
     "user": {
      "displayName": "Juan David Serrano Mugica",
      "photoUrl": "",
      "userId": "02259910632985565375"
     },
     "user_tz": 300
    },
    "id": "2sHzWWvOQxHI",
    "outputId": "86194ae9-9edc-4b36-fba6-07d89bdea034"
   },
   "outputs": [],
   "source": [
    "plt.plot(history.history['f1_m'], label='F1 Score')\n",
    "plt.plot(history.history['val_f1_m'], label = 'Validación F1 Score')\n",
    "plt.xlabel('Epoca')\n",
    "plt.ylabel('F1 Score')\n",
    "plt.grid(linewidth=0.5)\n",
    "ax=plt.gca()\n",
    "plt.ylim([0.84, 1.01])\n",
    "plt.legend(loc='lower right')\n",
    "#plt.savefig(PATH+'/drive/My Drive/Colab Notebooks/Machine Learning/Proyecto 1/Graficas/Problema Facil/F1 Score.png')\n",
    "plt.show()"
   ]
  },
  {
   "cell_type": "markdown",
   "metadata": {
    "colab_type": "text",
    "id": "sSA0YkLZcazG"
   },
   "source": [
    "# Recall \n"
   ]
  },
  {
   "cell_type": "code",
   "execution_count": null,
   "metadata": {
    "colab": {
     "base_uri": "https://localhost:8080/",
     "height": 279
    },
    "colab_type": "code",
    "executionInfo": {
     "elapsed": 664,
     "status": "ok",
     "timestamp": 1585675232567,
     "user": {
      "displayName": "Juan David Serrano Mugica",
      "photoUrl": "",
      "userId": "02259910632985565375"
     },
     "user_tz": 300
    },
    "id": "QRoIsL3VRwo8",
    "outputId": "f495663d-3697-45d9-f936-faf83ba27ff2"
   },
   "outputs": [],
   "source": [
    "plt.plot(history.history['recall_m'], label='Recall')\n",
    "plt.plot(history.history['val_recall_m'], label = 'Validación de Recall')\n",
    "plt.xlabel('Epoca')\n",
    "plt.ylabel('Recall')\n",
    "plt.grid(linewidth=0.5)\n",
    "ax=plt.gca()\n",
    "plt.ylim([0.825, 1.01])\n",
    "plt.legend(loc='lower right')\n",
    "plt.savefig(PATH+'/drive/My Drive/Colab Notebooks/Machine Learning/Proyecto 1/Graficas/Problema Facil/recall.png')\n",
    "plt.show()"
   ]
  },
  {
   "cell_type": "markdown",
   "metadata": {
    "colab_type": "text",
    "id": "r-GdMNMptUNB"
   },
   "source": [
    "#Metricas sobre datos de prueba"
   ]
  },
  {
   "cell_type": "code",
   "execution_count": null,
   "metadata": {
    "colab": {
     "base_uri": "https://localhost:8080/",
     "height": 85
    },
    "colab_type": "code",
    "executionInfo": {
     "elapsed": 933,
     "status": "ok",
     "timestamp": 1585673369874,
     "user": {
      "displayName": "Juan David Serrano Mugica",
      "photoUrl": "",
      "userId": "02259910632985565375"
     },
     "user_tz": 300
    },
    "id": "0YvQ8RXBC1eY",
    "outputId": "7bc6542b-d413-486e-f786-7ba2c6da1c4b"
   },
   "outputs": [],
   "source": [
    "print('Precisión: ',test_acc)\n",
    "print('Error: ',test_loss)\n",
    "print('F1 score: ',f1_score)\n",
    "print('Recall: ',recall)"
   ]
  },
  {
   "cell_type": "code",
   "execution_count": null,
   "metadata": {
    "colab": {},
    "colab_type": "code",
    "id": "zPLEBK7GLIQO"
   },
   "outputs": [],
   "source": [
    "#from google.colab import output\n",
    "#output.eval_js('new Audio(\"https://upload.wikimedia.org/wikipedia/commons/0/05/Beep-09.ogg\").play()')"
   ]
  },
  {
   "cell_type": "markdown",
   "metadata": {
    "colab_type": "text",
    "id": "LBk9YVuNkkTO"
   },
   "source": [
    "Se utiliza el modelo entrenado para predecir los valores de Y sobre los datos de prueba, que son las predicciones del modelo. La salida de la función sigmoide es la probabilidad de pertenecer a la clase etiquetada como 1, por lo tanto establece un umbral de 0.5 para el cual si la probabilidad es mayor a 0.5, se elige la clase 1 y de lo contrario se elige la clase 0. Para esto se redondea a la cifra significativa mas cercana."
   ]
  },
  {
   "cell_type": "code",
   "execution_count": null,
   "metadata": {
    "colab": {},
    "colab_type": "code",
    "id": "604VcEvOkhMN"
   },
   "outputs": [],
   "source": [
    "predtest=model.predict(x_test)\n",
    "for i in range(predtest.shape[0]):\n",
    "  if predtest[i]<0.5:\n",
    "    predtest[i]=0\n",
    "  else:\n",
    "    predtest[i]=1"
   ]
  },
  {
   "cell_type": "markdown",
   "metadata": {
    "colab_type": "text",
    "id": "OgLc5JCKl-7X"
   },
   "source": [
    "Ahora se comparan los resultados sobre los datos de prueba de la predicción del modelo con respecto a las etiquetas reales de las imagenes. \n"
   ]
  },
  {
   "cell_type": "code",
   "execution_count": null,
   "metadata": {
    "colab": {
     "base_uri": "https://localhost:8080/",
     "height": 1000
    },
    "colab_type": "code",
    "executionInfo": {
     "elapsed": 1825,
     "status": "ok",
     "timestamp": 1585673393996,
     "user": {
      "displayName": "Juan David Serrano Mugica",
      "photoUrl": "",
      "userId": "02259910632985565375"
     },
     "user_tz": 300
    },
    "id": "i5Kbuuwkx_X-",
    "outputId": "b685c3bb-c7be-4f9b-e6f0-ec3f37cceb0b"
   },
   "outputs": [],
   "source": [
    "for i in range(20):\n",
    "  numAleatorio=randint(0,predtest.shape[0]-1)\n",
    "  prediccion=predtest[numAleatorio][0]\n",
    "  print('Salida de sigmoide (Predicción): ',prediccion,' que es la etiqueta de el: ',cualClase(prediccion),'\\n')\n",
    "  cv2_imshow(x_test[numAleatorio])\n",
    "  print('\\n')\n",
    "  print('Etiqueta verdadera: ',y_test[numAleatorio],'que es la etiqueta de el: ', cualClase(y_test[numAleatorio]),'\\n')\n",
    "  if prediccion==y_test[numAleatorio]:\n",
    "    print('Acierto!')\n",
    "  else:\n",
    "    print('Equivocado')\n",
    "  print('-----------------------------------------------------')"
   ]
  },
  {
   "cell_type": "markdown",
   "metadata": {
    "colab_type": "text",
    "id": "L2hbrXCF8sYM"
   },
   "source": [
    "Dada la precisión empirica de la red convolucional, la red ha podido predecir la clasificación perfectamente."
   ]
  },
  {
   "cell_type": "code",
   "execution_count": null,
   "metadata": {
    "colab": {},
    "colab_type": "code",
    "id": "ILGZhgB3zMIr"
   },
   "outputs": [],
   "source": [
    "filas=[]\n",
    "for row_index, (input, prediction, label) in enumerate(zip (x_test, predtest, y_test)):\n",
    "  if prediction != label:\n",
    "    print('La imagen ', row_index, 'fue clasificada por el modelo como: ', prediction[0], 'pero pertenece a la etiqueta: ', label)"
   ]
  },
  {
   "cell_type": "markdown",
   "metadata": {
    "colab_type": "text",
    "id": "NvWCd6AZrKLg"
   },
   "source": [
    "Dado que se establecio un umbral y el vector de predicciones fue binarizado, se procede analizar la matriz de confusión"
   ]
  },
  {
   "cell_type": "code",
   "execution_count": null,
   "metadata": {
    "colab": {
     "base_uri": "https://localhost:8080/",
     "height": 297
    },
    "colab_type": "code",
    "executionInfo": {
     "elapsed": 750,
     "status": "ok",
     "timestamp": 1585675274879,
     "user": {
      "displayName": "Juan David Serrano Mugica",
      "photoUrl": "",
      "userId": "02259910632985565375"
     },
     "user_tz": 300
    },
    "id": "W7RCCyrlvsn5",
    "outputId": "b1466085-1733-4e2d-b047-9c8f8ed0b428"
   },
   "outputs": [],
   "source": [
    "def plot_confusion_matrix(cm, classes, cmap=plt.cm.Blues):\n",
    "    plt.imshow(cm, interpolation='nearest', cmap=cmap)\n",
    "    plt.colorbar()\n",
    "    tick_marks = np.arange(len(classes))\n",
    "    plt.xticks(tick_marks, classes)\n",
    "    plt.yticks(tick_marks, classes)\n",
    "    fmt = '.2f' \n",
    "    thresh = cm.max() / 2.\n",
    "    for i, j in itertools.product(range(cm.shape[0]), range(cm.shape[1])):\n",
    "        plt.text(j, i, format(cm[i, j], fmt),\n",
    "                 horizontalalignment=\"center\",\n",
    "                 color=\"white\" if cm[i, j] > thresh else \"black\")\n",
    "    plt.ylabel('Etiqueta verdadera')\n",
    "    plt.xlabel('Etiqueta predecida por el modelo')\n",
    "    plt.title('Matriz de confusion')\n",
    "    plt.tight_layout()\n",
    "\n",
    "conf=confusion_matrix(y_test.reshape((y_test.shape[0],1)),predtest.round())\n",
    "plt.figure()\n",
    "plot_confusion_matrix(conf, classes=['Mundo 1','Mundo 2'])\n",
    "plt.savefig(PATH+'/drive/My Drive/Colab Notebooks/Machine Learning/Proyecto 1/Graficas/Problema Facil/confusion.png')"
   ]
  },
  {
   "cell_type": "code",
   "execution_count": null,
   "metadata": {
    "colab": {
     "base_uri": "https://localhost:8080/",
     "height": 174
    },
    "colab_type": "code",
    "executionInfo": {
     "elapsed": 312938,
     "status": "ok",
     "timestamp": 1584918062453,
     "user": {
      "displayName": "Paulina Acosta",
      "photoUrl": "",
      "userId": "17953817192570044094"
     },
     "user_tz": 300
    },
    "id": "QY5YltmKTGqH",
    "outputId": "1049597a-5311-4ebc-83b5-285d5d9fab53"
   },
   "outputs": [],
   "source": [
    "print(classification_report(y_test.reshape((y_test.shape[0],1)), predtest.round()))"
   ]
  }
 ],
 "metadata": {
  "accelerator": "GPU",
  "colab": {
   "collapsed_sections": [],
   "machine_shape": "hm",
   "name": "Proyecto 1 Facil 1-5.ipynb",
   "provenance": [
    {
     "file_id": "1FxDmyxdiNvsfj3pfIhI2hN6JgioemMo5",
     "timestamp": 1584917634687
    }
   ]
  },
  "kernelspec": {
   "display_name": "Python 3",
   "language": "python",
   "name": "python3"
  },
  "language_info": {
   "codemirror_mode": {
    "name": "ipython",
    "version": 3
   },
   "file_extension": ".py",
   "mimetype": "text/x-python",
   "name": "python",
   "nbconvert_exporter": "python",
   "pygments_lexer": "ipython3",
   "version": "3.7.9"
  }
 },
 "nbformat": 4,
 "nbformat_minor": 1
}
